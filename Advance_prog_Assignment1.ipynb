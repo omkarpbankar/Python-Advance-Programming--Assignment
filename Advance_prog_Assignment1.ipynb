{
 "cells": [
  {
   "cell_type": "raw",
   "metadata": {},
   "source": [
    "1. Write a function that takes a list of lists and returns the value of all of the symbols in it, where each symbol adds or takes something from the total score. Symbol values:\n",
    "\n",
    "# = 5\n",
    "O = 3\n",
    "X = 1\n",
    "! = -1\n",
    "!! = -3\n",
    "!!! = -5\n",
    "\n",
    "A list of lists containing 2 #s, a O, and a !!! would equal (0 + 5 + 5 + 3 - 5) 8.\n",
    "\n",
    "If the final score is negative, return 0 (e.g. 3 #s, 3 !!s, 2 !!!s and a X would be (0 + 5 + 5 + 5 - 3 - 3 - 3 - 5 - 5 + 1) -3, so return 0.\n",
    "\n",
    "Examples\n",
    "\n",
    "check_score([\n",
    "  [\"#\", \"!\"],\n",
    "  [\"!!\", \"X\"]\n",
    "]) ➞ 2\n",
    "\n",
    "check_score([\n",
    "  [\"!!!\", \"O\", \"!\"],\n",
    "  [\"X\", \"#\", \"!!!\"],\n",
    "  [\"!!\", \"X\", \"O\"]\n",
    "]) ➞ 0\n"
   ]
  },
  {
   "cell_type": "code",
   "execution_count": 6,
   "metadata": {},
   "outputs": [
    {
     "name": "stdout",
     "output_type": "stream",
     "text": [
      "2\n",
      "0\n"
     ]
    }
   ],
   "source": [
    "def check_score(inp_nested_list):\n",
    "    symbol_dict = {'#':5,'O':3,'X':1,'!':-1,'!!':-3,'!!!':-5}\n",
    "    symbbol_value = 0\n",
    "    for i in inp_nested_list:\n",
    "        for j in i:\n",
    "            try:\n",
    "                symbbol_value += symbol_dict[j]\n",
    "            except:\n",
    "                symbbol_value += 0\n",
    "    symbbol_value = max(0,symbbol_value)\n",
    "    return symbbol_value\n",
    "print(check_score([\n",
    "  [\"#\", \"!\"],\n",
    "  [\"!!\", \"X\"]\n",
    "]))\n",
    "print(check_score([\n",
    "  [\"!!!\", \"O\", \"!\"],\n",
    "  [\"X\", \"#\", \"!!!\"],\n",
    "  [\"!!\", \"X\", \"O\"]\n",
    "]))"
   ]
  },
  {
   "cell_type": "raw",
   "metadata": {},
   "source": [
    "2. Create a function that takes a variable number of arguments, each argument representing the number of items in a group, and returns the number of permutations (combinations) of items that you could get by taking one item from each group.\n",
    "\n",
    "Examples\n",
    "\n",
    "combinations(2, 3) ➞ 6\n",
    "\n",
    "combinations(3, 7, 4) ➞ 84\n",
    "\n",
    "combinations(2, 3, 4, 5) ➞ 120\n"
   ]
  },
  {
   "cell_type": "code",
   "execution_count": 7,
   "metadata": {},
   "outputs": [
    {
     "name": "stdout",
     "output_type": "stream",
     "text": [
      "6\n",
      "84\n",
      "120\n"
     ]
    }
   ],
   "source": [
    "def combinations(*args):\n",
    "    combination = 1\n",
    "    for num in args:\n",
    "        combination = combination*num\n",
    "    return(combination)\n",
    "print(combinations(2, 3))\n",
    "print(combinations(3, 7, 4))\n",
    "print(combinations(2, 3, 4, 5))"
   ]
  },
  {
   "cell_type": "raw",
   "metadata": {},
   "source": [
    "3. Create a function that takes a string as an argument and returns the Morse code equivalent.\n",
    "\n",
    "Examples\n",
    "\n",
    "encode_morse(\"EDABBIT CHALLENGE\") ➞ \". -.. .- -... -... .. -   -.-. .... .- .-.. .-.. . -. --. .\"\n",
    "\n",
    "encode_morse(\"HELP ME !\") ➞ \".... . .-.. .--.   -- .   -.-.--\"\n",
    "\n",
    "This dictionary can be used for coding:\n",
    "\n",
    "char_to_dots = {\n",
    "  'A': '.-', 'B': '-...', 'C': '-.-.', 'D': '-..', 'E': '.', 'F': '..-.',\n",
    "  'G': '--.', 'H': '....', 'I': '..', 'J': '.---', 'K': '-.-', 'L': '.-..',\n",
    "  'M': '--', 'N': '-.', 'O': '---', 'P': '.--.', 'Q': '--.-', 'R': '.-.',\n",
    "  'S': '...', 'T': '-', 'U': '..-', 'V': '...-', 'W': '.--', 'X': '-..-',\n",
    "  'Y': '-.--', 'Z': '--..', ' ': ' ', '0': '-----',\n",
    "  '1': '.----', '2': '..---', '3': '...--', '4': '....-', '5': '.....',\n",
    "  '6': '-....', '7': '--...', '8': '---..', '9': '----.',\n",
    "  '&': '.-...', \"'\": '.----.', '@': '.--.-.', ')': '-.--.-', '(': '-.--.',\n",
    "  ':': '---...', ',': '--..--', '=': '-...-', '!': '-.-.--', '.': '.-.-.-',\n",
    "  '-': '-....-', '+': '.-.-.', '\"': '.-..-.', '?': '..--..', '/': '-..-.'\n",
    "}\n"
   ]
  },
  {
   "cell_type": "code",
   "execution_count": 8,
   "metadata": {},
   "outputs": [
    {
     "name": "stdout",
     "output_type": "stream",
     "text": [
      ". -.. .- -... -... .. -   -.-. .... .- .-.. .-.. . -. --. .\n",
      ".... . .-.. .--.   -- .   -.-.--\n"
     ]
    }
   ],
   "source": [
    "def encode_morse(inp_str):\n",
    "    char_to_dots = {\n",
    "      'A': '.-', 'B': '-...', 'C': '-.-.', 'D': '-..', 'E': '.', 'F': '..-.',\n",
    "      'G': '--.', 'H': '....', 'I': '..', 'J': '.---', 'K': '-.-', 'L': '.-..',\n",
    "      'M': '--', 'N': '-.', 'O': '---', 'P': '.--.', 'Q': '--.-', 'R': '.-.',\n",
    "      'S': '...', 'T': '-', 'U': '..-', 'V': '...-', 'W': '.--', 'X': '-..-',\n",
    "      'Y': '-.--', 'Z': '--..', ' ': ' ', '0': '-----',\n",
    "      '1': '.----', '2': '..---', '3': '...--', '4': '....-', '5': '.....',\n",
    "      '6': '-....', '7': '--...', '8': '---..', '9': '----.',\n",
    "      '&': '.-...', \"'\": '.----.', '@': '.--.-.', ')': '-.--.-', '(': '-.--.',\n",
    "      ':': '---...', ',': '--..--', '=': '-...-', '!': '-.-.--', '.': '.-.-.-',\n",
    "      '-': '-....-', '+': '.-.-.', '\"': '.-..-.', '?': '..--..', '/': '-..-.'\n",
    "    }\n",
    "    output_list = [char_to_dots[i] for i in inp_str]\n",
    "    output_str = \" \".join(output_list)\n",
    "    return output_str\n",
    "        \n",
    "print(encode_morse(\"EDABBIT CHALLENGE\"))\n",
    "print(encode_morse(\"HELP ME !\"))"
   ]
  },
  {
   "cell_type": "raw",
   "metadata": {},
   "source": [
    "4.  Write a function that takes a number and returns True if it's a prime; False otherwise. The number can be 2^64-1 (2 to the power of 63, not XOR). With the standard technique it would be O(2^64-1), which is much too large for the 10 second time limit.\n",
    "\n",
    "Examples\n",
    "\n",
    "prime(7) ➞ True\n",
    "\n",
    "prime(56963) ➞ True\n",
    "\n",
    "prime(5151512515524) ➞ False\n",
    "\n"
   ]
  },
  {
   "cell_type": "code",
   "execution_count": 9,
   "metadata": {},
   "outputs": [
    {
     "name": "stdout",
     "output_type": "stream",
     "text": [
      "True\n",
      "True\n",
      "False\n"
     ]
    }
   ],
   "source": [
    "def prime(n):\n",
    "    if n == 1:\n",
    "        return False\n",
    "\n",
    "    i = 2\n",
    "    while i*i <= n:\n",
    "        if n % i == 0:\n",
    "            return False\n",
    "        i += 1\n",
    "    return True\n",
    "\n",
    "print(prime(7))\n",
    "print(prime(56963))\n",
    "print(prime(5151512515524))"
   ]
  },
  {
   "cell_type": "raw",
   "metadata": {},
   "source": [
    "5.  Create a function that converts a word to a bitstring and then to a boolean list based on the following criteria:\n",
    "\n",
    "    1. Locate the position of the letter in the English alphabet (from 1 to 26).\n",
    "    2. Odd positions will be represented as 1 and 0 otherwise.\n",
    "    3. Convert the represented positions to boolean values, 1 for True and 0 for False.\n",
    "    4. Store the conversions into an array.\n",
    "\n",
    " Examples\n",
    "\n",
    "to_boolean_list(\"deep\") ➞ [False, True, True, False]\n",
    "# deep converts to 0110\n",
    "# d is the 4th alphabet - 0\n",
    "# e is the 5th alphabet - 1\n",
    "# e is the 5th alphabet - 1\n",
    "# p is the 16th alphabet - 0\n",
    "\n",
    "to_boolean_list(\"loves\") ➞ [False, True, False, True, True]\n",
    "\n",
    "to_boolean_list(\"tesh\") ➞ [False, True, True, False]\n",
    "\n"
   ]
  },
  {
   "cell_type": "code",
   "execution_count": 15,
   "metadata": {},
   "outputs": [
    {
     "name": "stdout",
     "output_type": "stream",
     "text": [
      "['False', 'True', 'True', 'False']\n",
      "['False', 'True', 'False', 'True', 'True']\n",
      "['False', 'True', 'True', 'False']\n"
     ]
    }
   ],
   "source": [
    "def to_boolean_list(inp_str):\n",
    "    char_to_num = {\n",
    "      'A': 1, 'B': 2, 'C': 3, 'D': 4, 'E': 5, 'F': 6,\n",
    "      'G': 7, 'H': 8, 'I': 9, 'J': 10, 'K': 11, 'L': 12,\n",
    "      'M': 13, 'N': 14, 'O': 15, 'P': 16, 'Q': 17, 'R': 18,\n",
    "      'S': 19, 'T': 20, 'U': 21, 'V': 22, 'W': 23, 'X': 24,\n",
    "      'Y': 25, 'Z': 26\n",
    "    }\n",
    "    result = []\n",
    "    for i in inp_str:\n",
    "        if char_to_num[i.upper()]%2 == 0:\n",
    "            result.append('False')\n",
    "        else:\n",
    "            result.append('True')\n",
    "    return result\n",
    "\n",
    "print(to_boolean_list(\"deep\"))\n",
    "print(to_boolean_list(\"loves\"))\n",
    "print(to_boolean_list(\"tesh\"))"
   ]
  },
  {
   "cell_type": "code",
   "execution_count": null,
   "metadata": {},
   "outputs": [],
   "source": []
  }
 ],
 "metadata": {
  "kernelspec": {
   "display_name": "Python 3",
   "language": "python",
   "name": "python3"
  },
  "language_info": {
   "codemirror_mode": {
    "name": "ipython",
    "version": 3
   },
   "file_extension": ".py",
   "mimetype": "text/x-python",
   "name": "python",
   "nbconvert_exporter": "python",
   "pygments_lexer": "ipython3",
   "version": "3.8.12"
  }
 },
 "nbformat": 4,
 "nbformat_minor": 4
}
